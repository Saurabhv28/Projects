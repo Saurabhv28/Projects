{
  "cells": [
    {
      "cell_type": "markdown",
      "metadata": {
        "id": "vJtxYAGU7KoG"
      },
      "source": [
        "#Next Word Prediction model"
      ]
    },
    {
      "cell_type": "code",
      "execution_count": 1,
      "metadata": {
        "id": "In2rjBXA7EUj"
      },
      "outputs": [],
      "source": [
        "#Importing the libraries\n",
        "import numpy as np\n",
        "import matplotlib.pyplot as plt\n",
        "import pickle\n",
        "import heapq"
      ]
    },
    {
      "cell_type": "markdown",
      "source": [
        "# ***Data Visualization:***\n",
        "\n"
      ],
      "metadata": {
        "id": "gK5e9YVUY9vd"
      }
    },
    {
      "cell_type": "code",
      "execution_count": 3,
      "metadata": {
        "colab": {
          "base_uri": "https://localhost:8080/"
        },
        "id": "0aJrvs7uq08v",
        "outputId": "b7d91335-7084-40e4-ecb9-cdaa575822bc"
      },
      "outputs": [
        {
          "output_type": "stream",
          "name": "stdout",
          "text": [
            "Mounted at /content/drive\n"
          ]
        }
      ],
      "source": [
        "from google.colab import drive\n",
        "drive.mount('/content/drive')"
      ]
    },
    {
      "cell_type": "code",
      "execution_count": 4,
      "metadata": {
        "id": "ftrzBgBL7Obc"
      },
      "outputs": [],
      "source": [
        "#loading the data to the variable\n",
        "data = '/content/drive/MyDrive/Seminars & Projects/Corpus_NLP.txt'\n",
        "\n",
        "text = open(data,'r',encoding='cp1252')\n",
        "text_f = text.read()\n",
        "\n",
        "# text_f = ' My name is Saurabh, His name is Dilip. Other do not have any name. My dogs name is Leo.'\n",
        "f = text_f.lower()"
      ]
    },
    {
      "cell_type": "code",
      "source": [
        "print('corpus length:', len(f))"
      ],
      "metadata": {
        "colab": {
          "base_uri": "https://localhost:8080/"
        },
        "id": "yKHml1PDZjr7",
        "outputId": "35f48d6d-3861-43d6-d09e-d39732273b21"
      },
      "execution_count": 5,
      "outputs": [
        {
          "output_type": "stream",
          "name": "stdout",
          "text": [
            "corpus length: 274435\n"
          ]
        }
      ]
    },
    {
      "cell_type": "markdown",
      "source": [
        "# ***Data Preprocessing:*** "
      ],
      "metadata": {
        "id": "DAsmFZ1TZJ8b"
      }
    },
    {
      "cell_type": "code",
      "execution_count": 6,
      "metadata": {
        "colab": {
          "base_uri": "https://localhost:8080/"
        },
        "id": "v6NNHinaFxhf",
        "outputId": "84f77a25-5637-48ae-ad4c-4520a8e68413"
      },
      "outputs": [
        {
          "output_type": "stream",
          "name": "stderr",
          "text": [
            "[nltk_data] Downloading package stopwords to /root/nltk_data...\n",
            "[nltk_data]   Unzipping corpora/stopwords.zip.\n",
            "[nltk_data] Downloading package punkt to /root/nltk_data...\n",
            "[nltk_data]   Unzipping tokenizers/punkt.zip.\n"
          ]
        }
      ],
      "source": [
        "import nltk\n",
        "nltk.download('stopwords')\n",
        "nltk.download('punkt')\n",
        "from nltk.tokenize import word_tokenize"
      ]
    },
    {
      "cell_type": "code",
      "execution_count": 7,
      "metadata": {
        "id": "tq8f6WJN5Exa",
        "colab": {
          "base_uri": "https://localhost:8080/"
        },
        "outputId": "2d8b66c8-dd46-404d-cb1c-3b52181b380d"
      },
      "outputs": [
        {
          "output_type": "stream",
          "name": "stdout",
          "text": [
            "32\n",
            "61924\n"
          ]
        }
      ],
      "source": [
        "# stop_words = set(stopwords.words('english'))\n",
        "\n",
        "word_tokens = word_tokenize(f)\n",
        "stop_words2 = {'a', '.', ',', '?', '!', '\"','ain','aren','couldn','d','didn','doesn','isn','ll','m','ma','me','mightn','mustn','o','re','s','shan',\"shan't\",'shouldn','t','to','too','ve','wasn','y', 'the'} \n",
        "print(len(stop_words2))\n",
        "# stop_words2\n",
        "print(len(word_tokens))"
      ]
    },
    {
      "cell_type": "code",
      "execution_count": 8,
      "metadata": {
        "colab": {
          "base_uri": "https://localhost:8080/"
        },
        "id": "YxnIQ5Kj42uE",
        "outputId": "97153a97-1cd5-4fe8-f827-1b1cbe9504ff"
      },
      "outputs": [
        {
          "output_type": "stream",
          "name": "stdout",
          "text": [
            "48702\n"
          ]
        }
      ],
      "source": [
        "# Method 1:\n",
        "\n",
        "filtered_text = [w for w in word_tokens if not w.lower() in stop_words2]\n",
        " \n",
        "print(len(filtered_text)) \n",
        "\n",
        "# Method 2:\n",
        "\n",
        "# filtered_text = []\n",
        " \n",
        "# for w in word_tokens:\n",
        "#     if w not in stop_words2:\n",
        "#         filtered_text.append(w)\n",
        " \n",
        "# print(len(filtered_text))"
      ]
    },
    {
      "cell_type": "code",
      "execution_count": 9,
      "metadata": {
        "id": "OQQbs62OPGRp"
      },
      "outputs": [],
      "source": [
        "filtered_text2 = ' '.join(filtered_text)"
      ]
    },
    {
      "cell_type": "code",
      "execution_count": null,
      "metadata": {
        "id": "gz9EAUrB7eha"
      },
      "outputs": [],
      "source": [
        "# Importing RegexTeokenizer module from NLTK library\n",
        "from nltk.tokenize import RegexpTokenizer"
      ]
    },
    {
      "cell_type": "code",
      "execution_count": null,
      "metadata": {
        "colab": {
          "base_uri": "https://localhost:8080/"
        },
        "id": "VBLupe663kUM",
        "outputId": "84f5a059-c71b-4742-ac44-6c9f9225f280"
      },
      "outputs": [
        {
          "output_type": "stream",
          "name": "stdout",
          "text": [
            "45888\n"
          ]
        }
      ],
      "source": [
        "# #Tokenizing the data and converting to tokens\n",
        "tokenizer = RegexpTokenizer(r'\\w+')\n",
        "# #lowering the case\n",
        "# wo = f.lower() \n",
        "words = tokenizer.tokenize(filtered_text2)\n",
        "print(len(words))"
      ]
    },
    {
      "cell_type": "code",
      "execution_count": null,
      "metadata": {
        "colab": {
          "base_uri": "https://localhost:8080/"
        },
        "id": "IKSuJ23e9JIY",
        "outputId": "d39ddd17-ac59-477f-f813-6f540517d42f"
      },
      "outputs": [
        {
          "output_type": "stream",
          "name": "stdout",
          "text": [
            "4593\n"
          ]
        }
      ],
      "source": [
        "#Extracting the unique words using the np.unique function\n",
        "unique_words = np.unique(words)\n",
        "unique_word_index = dict((c, i) for i, c in enumerate(unique_words))\n",
        "print(len(unique_words))"
      ]
    },
    {
      "cell_type": "markdown",
      "source": [
        "# ***Word Embedding:***"
      ],
      "metadata": {
        "id": "iHtMmkyOZ1Ub"
      }
    },
    {
      "cell_type": "code",
      "execution_count": null,
      "metadata": {
        "colab": {
          "base_uri": "https://localhost:8080/"
        },
        "id": "lGEowYJK9NTy",
        "outputId": "5791656d-4a05-47b1-949a-145c4aff230a"
      },
      "outputs": [
        {
          "output_type": "stream",
          "name": "stdout",
          "text": [
            "Previous : ['1', 'jungle', 'book']\n",
            "Next : by\n"
          ]
        }
      ],
      "source": [
        "#Finding the previous and next words\n",
        "length = 3\n",
        "prev = []\n",
        "next= []\n",
        "for i in range(len(words) - length):\n",
        "    prev.append(words[i:i + length])\n",
        "    next.append(words[i + length])\n",
        "#Printing the previous and next words\n",
        "print(\"Previous :\",prev[0])\n",
        "print(\"Next :\",next[0])"
      ]
    },
    {
      "cell_type": "code",
      "execution_count": null,
      "metadata": {
        "colab": {
          "base_uri": "https://localhost:8080/"
        },
        "id": "qXfYru6IZDs1",
        "outputId": "1b454fb5-1fed-4fbe-d35d-1a9cf1ba85b1"
      },
      "outputs": [
        {
          "output_type": "stream",
          "name": "stdout",
          "text": [
            "45885 45885\n"
          ]
        }
      ],
      "source": [
        "print(len(prev), len(next))"
      ]
    },
    {
      "cell_type": "code",
      "execution_count": null,
      "metadata": {
        "id": "sV1OZQar5C4r"
      },
      "outputs": [],
      "source": [
        "import numpy as np\n",
        "#Creating the array with number of zeros\n",
        "X = np.zeros((len(prev), length, len(unique_words)), dtype=bool)\n",
        "Y = np.zeros((len(next), len(unique_words)), dtype=bool)"
      ]
    },
    {
      "cell_type": "code",
      "execution_count": null,
      "metadata": {
        "id": "5zuRIIc19Q0P"
      },
      "outputs": [],
      "source": [
        "#Properly indexing the previous and next words\n",
        "for i, each_words in enumerate(prev):\n",
        "    for j, word in enumerate(each_words):\n",
        "        X[i, j, unique_word_index[word]] = 1\n",
        "    Y[i, unique_word_index[next[i]]] = 1"
      ]
    },
    {
      "cell_type": "code",
      "execution_count": null,
      "metadata": {
        "colab": {
          "base_uri": "https://localhost:8080/"
        },
        "id": "BPV96kok9U2h",
        "outputId": "80bdcd64-efc9-4fc1-b510-bc1d01ec15ea"
      },
      "outputs": [
        {
          "output_type": "execute_result",
          "data": {
            "text/plain": [
              "(45885, 3, 4593)"
            ]
          },
          "metadata": {},
          "execution_count": 16
        }
      ],
      "source": [
        "X.shape"
      ]
    },
    {
      "cell_type": "code",
      "execution_count": null,
      "metadata": {
        "colab": {
          "base_uri": "https://localhost:8080/"
        },
        "id": "-_E3TQfm5fAU",
        "outputId": "381af92b-823e-4585-d719-9bfc758d2324"
      },
      "outputs": [
        {
          "output_type": "execute_result",
          "data": {
            "text/plain": [
              "(45885, 4593)"
            ]
          },
          "metadata": {},
          "execution_count": 17
        }
      ],
      "source": [
        "Y.shape"
      ]
    },
    {
      "cell_type": "code",
      "source": [
        ""
      ],
      "metadata": {
        "id": "2Hqf4pnXqCQk"
      },
      "execution_count": null,
      "outputs": []
    },
    {
      "cell_type": "markdown",
      "source": [
        "# ***Model for Next Word Prediction:***"
      ],
      "metadata": {
        "id": "kiLp0dWeZ55E"
      }
    },
    {
      "cell_type": "code",
      "execution_count": null,
      "metadata": {
        "colab": {
          "base_uri": "https://localhost:8080/"
        },
        "id": "rKZggelxrgbj",
        "outputId": "2b7e04d9-1809-424f-f166-2cafca7ea696"
      },
      "outputs": [
        {
          "output_type": "stream",
          "name": "stdout",
          "text": [
            "Requirement already satisfied: keras in /usr/local/lib/python3.7/dist-packages (2.8.0)\n"
          ]
        }
      ],
      "source": [
        "!pip install keras"
      ]
    },
    {
      "cell_type": "code",
      "execution_count": null,
      "metadata": {
        "id": "2JJQLwIg2Rxf"
      },
      "outputs": [],
      "source": [
        "#Importing the Keras library for models and model operations\n",
        "from keras.models import Sequential, load_model\n",
        "from keras.layers import LSTM\n",
        "from keras.layers.core import Dense, Activation\n",
        "from tensorflow.keras.optimizers import RMSprop"
      ]
    },
    {
      "cell_type": "code",
      "execution_count": null,
      "metadata": {
        "id": "NRq2_xNV9iIA"
      },
      "outputs": [],
      "source": [
        "#Selecting the Sequential model \n",
        "model = Sequential()\n",
        "# LSTM as Encoder:\n",
        "model.add(LSTM(128, input_shape=(length, len(unique_words))))\n",
        "model.add(Dense(1000, activation='relu')) \n",
        "model.add(Dense(len(unique_words)))\n",
        "#setting Softmax Activation function\n",
        "model.add(Activation('softmax'))\n",
        "\n",
        "#setting the RMSprop Optimizer\n",
        "optimizer = RMSprop(learning_rate=0.01)"
      ]
    },
    {
      "cell_type": "code",
      "source": [
        "model.summary()"
      ],
      "metadata": {
        "id": "YoZk2NXrP1de",
        "colab": {
          "base_uri": "https://localhost:8080/"
        },
        "outputId": "a444899e-2736-4920-a0f0-084fc781add3"
      },
      "execution_count": null,
      "outputs": [
        {
          "output_type": "stream",
          "name": "stdout",
          "text": [
            "Model: \"sequential_1\"\n",
            "_________________________________________________________________\n",
            " Layer (type)                Output Shape              Param #   \n",
            "=================================================================\n",
            " lstm_1 (LSTM)               (None, 128)               2417664   \n",
            "                                                                 \n",
            " dense_2 (Dense)             (None, 1000)              129000    \n",
            "                                                                 \n",
            " dense_3 (Dense)             (None, 4593)              4597593   \n",
            "                                                                 \n",
            " activation_1 (Activation)   (None, 4593)              0         \n",
            "                                                                 \n",
            "=================================================================\n",
            "Total params: 7,144,257\n",
            "Trainable params: 7,144,257\n",
            "Non-trainable params: 0\n",
            "_________________________________________________________________\n"
          ]
        }
      ]
    },
    {
      "cell_type": "code",
      "source": [
        "from tensorflow import keras\n",
        "from keras.utils.vis_utils import plot_model\n",
        "keras.utils.plot_model(model, to_file = 'plot.png', show_layer_names=True)"
      ],
      "metadata": {
        "id": "rdFfYq0PPmh3",
        "colab": {
          "base_uri": "https://localhost:8080/",
          "height": 466
        },
        "outputId": "f1b88dbb-6712-4f0e-d43d-a64af99858cf"
      },
      "execution_count": null,
      "outputs": [
        {
          "output_type": "execute_result",
          "data": {
            "text/plain": [
              "<IPython.core.display.Image object>"
            ],
            "image/png": "[encoded data removed]"
          },
          "metadata": {},
          "execution_count": 48
        }
      ]
    },
    {
      "cell_type": "code",
      "execution_count": null,
      "metadata": {
        "id": "1D5vHtl16Vcr"
      },
      "outputs": [],
      "source": [
        "#Compiling the model\n",
        "model.compile(loss='categorical_crossentropy', optimizer=optimizer, metrics=['accuracy'])"
      ]
    },
    {
      "cell_type": "code",
      "execution_count": null,
      "metadata": {
        "colab": {
          "base_uri": "https://localhost:8080/"
        },
        "id": "JtVHJaIT9mqS",
        "outputId": "3a6de951-bd2f-420f-9010-9bd3efbbe87d"
      },
      "outputs": [
        {
          "output_type": "stream",
          "name": "stdout",
          "text": [
            "Epoch 1/30\n",
            "341/341 [==============================] - 99s 280ms/step - loss: 6.5658 - accuracy: 0.0724 - val_loss: 6.6292 - val_accuracy: 0.0641\n",
            "Epoch 2/30\n",
            "341/341 [==============================] - 95s 280ms/step - loss: 5.9726 - accuracy: 0.1073 - val_loss: 6.5406 - val_accuracy: 0.0828\n",
            "Epoch 3/30\n",
            "341/341 [==============================] - 95s 279ms/step - loss: 5.6824 - accuracy: 0.1249 - val_loss: 6.7077 - val_accuracy: 0.0850\n",
            "Epoch 4/30\n",
            "341/341 [==============================] - 94s 275ms/step - loss: 5.4376 - accuracy: 0.1443 - val_loss: 7.0332 - val_accuracy: 0.0845\n",
            "Epoch 5/30\n",
            "341/341 [==============================] - 95s 279ms/step - loss: 5.0936 - accuracy: 0.1687 - val_loss: 7.3716 - val_accuracy: 0.0715\n",
            "Epoch 6/30\n",
            "341/341 [==============================] - 92s 270ms/step - loss: 4.6777 - accuracy: 0.2051 - val_loss: 7.7488 - val_accuracy: 0.0580\n",
            "Epoch 7/30\n",
            "341/341 [==============================] - 91s 267ms/step - loss: 4.1230 - accuracy: 0.2617 - val_loss: 8.5813 - val_accuracy: 0.0549\n",
            "Epoch 8/30\n",
            "341/341 [==============================] - 91s 267ms/step - loss: 3.5137 - accuracy: 0.3320 - val_loss: 9.2627 - val_accuracy: 0.0471\n",
            "Epoch 9/30\n",
            "341/341 [==============================] - 93s 271ms/step - loss: 2.8564 - accuracy: 0.4172 - val_loss: 10.5713 - val_accuracy: 0.0527\n",
            "Epoch 10/30\n",
            "341/341 [==============================] - 94s 276ms/step - loss: 2.2903 - accuracy: 0.5083 - val_loss: 12.1575 - val_accuracy: 0.0501\n",
            "Epoch 11/30\n",
            "341/341 [==============================] - 94s 276ms/step - loss: 1.8115 - accuracy: 0.5923 - val_loss: 13.1486 - val_accuracy: 0.0449\n",
            "Epoch 12/30\n",
            "341/341 [==============================] - 94s 276ms/step - loss: 1.4678 - accuracy: 0.6637 - val_loss: 14.5797 - val_accuracy: 0.0514\n",
            "Epoch 13/30\n",
            "341/341 [==============================] - 94s 277ms/step - loss: 1.2098 - accuracy: 0.7213 - val_loss: 15.6068 - val_accuracy: 0.0458\n",
            "Epoch 14/30\n",
            "341/341 [==============================] - 94s 274ms/step - loss: 1.0067 - accuracy: 0.7651 - val_loss: 16.4995 - val_accuracy: 0.0423\n",
            "Epoch 15/30\n",
            "341/341 [==============================] - 93s 274ms/step - loss: 0.8565 - accuracy: 0.7983 - val_loss: 17.4423 - val_accuracy: 0.0475\n",
            "Epoch 16/30\n",
            "341/341 [==============================] - 94s 274ms/step - loss: 0.7628 - accuracy: 0.8254 - val_loss: 18.2497 - val_accuracy: 0.0479\n",
            "Epoch 17/30\n",
            "341/341 [==============================] - 93s 273ms/step - loss: 0.6822 - accuracy: 0.8458 - val_loss: 18.9068 - val_accuracy: 0.0462\n",
            "Epoch 18/30\n",
            "341/341 [==============================] - 93s 272ms/step - loss: 0.6279 - accuracy: 0.8608 - val_loss: 19.5075 - val_accuracy: 0.0453\n",
            "Epoch 19/30\n",
            "341/341 [==============================] - 93s 272ms/step - loss: 0.5800 - accuracy: 0.8700 - val_loss: 19.8660 - val_accuracy: 0.0479\n",
            "Epoch 20/30\n",
            "341/341 [==============================] - 94s 277ms/step - loss: 0.5546 - accuracy: 0.8759 - val_loss: 20.2063 - val_accuracy: 0.0479\n",
            "Epoch 21/30\n",
            "341/341 [==============================] - 95s 277ms/step - loss: 0.5204 - accuracy: 0.8847 - val_loss: 19.5323 - val_accuracy: 0.0418\n",
            "Epoch 22/30\n",
            "341/341 [==============================] - 95s 278ms/step - loss: 0.4961 - accuracy: 0.8901 - val_loss: 20.1926 - val_accuracy: 0.0436\n",
            "Epoch 23/30\n",
            "341/341 [==============================] - 93s 273ms/step - loss: 0.4788 - accuracy: 0.8918 - val_loss: 20.5510 - val_accuracy: 0.0418\n",
            "Epoch 24/30\n",
            "341/341 [==============================] - 94s 275ms/step - loss: 0.4607 - accuracy: 0.8950 - val_loss: 20.6968 - val_accuracy: 0.0436\n",
            "Epoch 25/30\n",
            "341/341 [==============================] - 95s 279ms/step - loss: 0.4459 - accuracy: 0.8972 - val_loss: 20.1127 - val_accuracy: 0.0431\n",
            "Epoch 26/30\n",
            "341/341 [==============================] - 93s 272ms/step - loss: 0.4320 - accuracy: 0.8994 - val_loss: 21.3160 - val_accuracy: 0.0458\n",
            "Epoch 27/30\n",
            "341/341 [==============================] - 94s 275ms/step - loss: 0.4201 - accuracy: 0.9009 - val_loss: 20.6755 - val_accuracy: 0.0436\n",
            "Epoch 28/30\n",
            "341/341 [==============================] - 92s 270ms/step - loss: 0.4108 - accuracy: 0.9013 - val_loss: 20.3327 - val_accuracy: 0.0375\n",
            "Epoch 29/30\n",
            "341/341 [==============================] - 93s 274ms/step - loss: 0.3981 - accuracy: 0.9029 - val_loss: 20.9717 - val_accuracy: 0.0423\n",
            "Epoch 30/30\n",
            "341/341 [==============================] - 93s 272ms/step - loss: 0.3947 - accuracy: 0.9053 - val_loss: 21.5014 - val_accuracy: 0.0431\n"
          ]
        }
      ],
      "source": [
        "#Training the model.\n",
        "history = model.fit(X, Y, validation_split=0.05, batch_size=128, epochs=30, shuffle=True).history"
      ]
    },
    {
      "cell_type": "code",
      "execution_count": null,
      "metadata": {
        "id": "0owA6seI9spS"
      },
      "outputs": [],
      "source": [
        "#Saving the model as h5 file\n",
        "model.save('/content/drive/MyDrive/Seminars & Projects/NLP Next Word Prediction/next_word_model_2.h5.h5')\n",
        "pickle.dump(history, open(\"/content/drive/MyDrive/Seminars & Projects/NLP Next Word Prediction/history_2.p\", \"wb\"))"
      ]
    },
    {
      "cell_type": "code",
      "source": [
        "#Loading the model\n",
        "model = load_model('/content/drive/MyDrive/Seminars & Projects/NLP Next Word Prediction/next_word_model_2.h5.h5')\n",
        "history = pickle.load(open(\"/content/drive/MyDrive/Seminars & Projects/NLP Next Word Prediction/history_2.p\", \"rb\"))"
      ],
      "metadata": {
        "id": "szpA-qB3Tr8B"
      },
      "execution_count": null,
      "outputs": []
    },
    {
      "cell_type": "code",
      "execution_count": null,
      "metadata": {
        "id": "Tk6juhZU-b-X"
      },
      "outputs": [],
      "source": [
        "#Defining a function to prepare input for using in model\n",
        "def prep(text):\n",
        "    x = np.zeros((1, length, len(unique_words)))\n",
        "    for a, word in enumerate(text.split()):\n",
        "        print(word)\n",
        "        x[0, a, unique_word_index[word]] = 1\n",
        "    print(x.shape)\n",
        "    return x"
      ]
    },
    {
      "cell_type": "code",
      "execution_count": null,
      "metadata": {
        "colab": {
          "base_uri": "https://localhost:8080/"
        },
        "id": "qla8qIfMvv7s",
        "outputId": "6ae3b11e-cfbe-4708-dd24-e640f996707f"
      },
      "outputs": [
        {
          "output_type": "stream",
          "name": "stdout",
          "text": [
            "i\n",
            "am\n",
            "very\n",
            "(1, 3, 4593)\n"
          ]
        },
        {
          "output_type": "execute_result",
          "data": {
            "text/plain": [
              "array([[[0., 0., 0., ..., 0., 0., 0.],\n",
              "        [0., 0., 0., ..., 0., 0., 0.],\n",
              "        [0., 0., 0., ..., 0., 0., 0.]]])"
            ]
          },
          "metadata": {},
          "execution_count": 22
        }
      ],
      "source": [
        "#using the prep funtion we are transforming the data\n",
        "prep(\"I am very\".lower())"
      ]
    },
    {
      "cell_type": "code",
      "execution_count": null,
      "metadata": {
        "id": "6is2xFMO-t_K"
      },
      "outputs": [],
      "source": [
        "#Defining a function called sample\n",
        "def sample(preds, top_n=3):\n",
        "    preds = np.asarray(preds).astype('float64')\n",
        "    preds = np.log(preds)\n",
        "    exp_preds = np.exp(preds)\n",
        "    preds = exp_preds / np.sum(exp_preds)\n",
        "    return heapq.nlargest(top_n, range(len(preds)), preds.take)"
      ]
    },
    {
      "cell_type": "code",
      "execution_count": null,
      "metadata": {
        "id": "bJ7iCQHvRm9Q"
      },
      "outputs": [],
      "source": [
        ""
      ]
    },
    {
      "cell_type": "code",
      "execution_count": null,
      "metadata": {
        "id": "iSZ1fzNMFF7l"
      },
      "outputs": [],
      "source": [
        "def completions(text, n=3):\n",
        "    if text == \"\":\n",
        "        return(\"0\")\n",
        "    x = prep(text)\n",
        "    preds = model.predict(x, verbose=0)[0]\n",
        "    next_indices = sample(preds, n)\n",
        "    return [unique_words[idx] for idx in next_indices]"
      ]
    },
    {
      "cell_type": "markdown",
      "source": [
        "# ***Testing:***"
      ],
      "metadata": {
        "id": "jUDXRcURaOiM"
      }
    },
    {
      "cell_type": "code",
      "execution_count": null,
      "metadata": {
        "colab": {
          "base_uri": "https://localhost:8080/"
        },
        "id": "FEJ4efu3uflO",
        "outputId": "a4e2dafd-7fee-4eae-d6e1-18ed07a08060"
      },
      "outputs": [
        {
          "output_type": "stream",
          "name": "stdout",
          "text": [
            "correct sentence:  i have never\n",
            "Sequence:  i have never\n",
            "i\n",
            "have\n",
            "never\n",
            "(1, 3, 4593)\n",
            "next possible words:  ['seen', 'betray', 'fasted']\n"
          ]
        }
      ],
      "source": [
        "q =  \"i have never\"\n",
        "print(\"correct sentence: \",q)\n",
        "seq = \" \".join(tokenizer.tokenize(q.lower())[-3:])\n",
        "print(\"Sequence: \",seq)\n",
        "print(\"next possible words: \", completions(seq, 3))"
      ]
    },
    {
      "cell_type": "code",
      "execution_count": null,
      "metadata": {
        "id": "fFd1NsidFKZh"
      },
      "outputs": [],
      "source": [
        ""
      ]
    },
    {
      "cell_type": "code",
      "execution_count": null,
      "metadata": {
        "id": "ZCF9q4mbBhms"
      },
      "outputs": [],
      "source": [
        "import warnings\n",
        "warnings.filterwarnings(\"ignore\", category=FutureWarning)"
      ]
    }
  ],
  "metadata": {
    "colab": {
      "name": "Jungle Book of Language Modeling using LSTM.ipynb",
      "provenance": [],
      "collapsed_sections": []
    },
    "kernelspec": {
      "display_name": "Python 3",
      "name": "python3"
    },
    "language_info": {
      "name": "python"
    }
  },
  "nbformat": 4,
  "nbformat_minor": 0
}